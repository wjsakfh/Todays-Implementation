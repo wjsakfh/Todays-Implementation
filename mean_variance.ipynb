{
 "cells": [
  {
   "cell_type": "code",
   "execution_count": 23,
   "metadata": {},
   "outputs": [
    {
     "data": {
      "text/plain": [
       "(array([   9.,   79.,  298.,  829., 1363., 1315.,  778.,  269.,   56.,\n",
       "           4.]),\n",
       " array([-10.79403969,  -8.61757979,  -6.4411199 ,  -4.26466   ,\n",
       "         -2.0882001 ,   0.0882598 ,   2.2647197 ,   4.44117959,\n",
       "          6.61763949,   8.79409939,  10.97055929]),\n",
       " <BarContainer object of 10 artists>)"
      ]
     },
     "execution_count": 23,
     "metadata": {},
     "output_type": "execute_result"
    },
    {
     "data": {
      "image/png": "[encoded data removed]",
      "text/plain": [
       "<Figure size 432x288 with 1 Axes>"
      ]
     },
     "metadata": {
      "needs_background": "light"
     },
     "output_type": "display_data"
    }
   ],
   "source": [
    "import numpy as np\n",
    "import matplotlib.pyplot as plt\n",
    "\n",
    "a = np.random.normal(0, 3, 5000)\n",
    "plt.hist(a)"
   ]
  },
  {
   "cell_type": "code",
   "execution_count": 28,
   "metadata": {},
   "outputs": [
    {
     "name": "stdout",
     "output_type": "stream",
     "text": [
      "-0.029668642357359942\n",
      "8.936225909420314\n",
      "2.9893520885670717\n"
     ]
    }
   ],
   "source": [
    "mean = sum(a) / len(a)\n",
    "variance = sum((a - mean) ** 2) / len(a)\n",
    "deviation = np.sqrt(variance)\n",
    "\n",
    "print(mean)\n",
    "print(variance)\n",
    "print(deviation)"
   ]
  },
  {
   "cell_type": "code",
   "execution_count": null,
   "metadata": {},
   "outputs": [],
   "source": []
  }
 ],
 "metadata": {
  "interpreter": {
   "hash": "366f001366255956e9ab068c1919ba0fdaf430e3ffbc7099a0724add2b197f30"
  },
  "kernelspec": {
   "display_name": "Python 3.8.12 64-bit ('implementations': conda)",
   "language": "python",
   "name": "python3"
  },
  "language_info": {
   "codemirror_mode": {
    "name": "ipython",
    "version": 3
   },
   "file_extension": ".py",
   "mimetype": "text/x-python",
   "name": "python",
   "nbconvert_exporter": "python",
   "pygments_lexer": "ipython3",
   "version": "3.8.12"
  },
  "orig_nbformat": 4
 },
 "nbformat": 4,
 "nbformat_minor": 2
}
