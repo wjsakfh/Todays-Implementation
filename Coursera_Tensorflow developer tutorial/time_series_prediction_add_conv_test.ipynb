{
 "cells": [
  {
   "cell_type": "code",
   "execution_count": null,
   "metadata": {},
   "outputs": [],
   "source": [
    "\n",
    "window_size = 60\n",
    "batch_size = 64\n",
    "train_set = windowed_dataset(x_train, window_size, batch_size, shuffle_buffer_size)\n",
    "\n",
    "model = tf.keras.models.Sequential([ \n",
    "    tf.keras.layers.Conv1D(filters = 32, kernel_size = 5, strides = 1, padding = 'casual', activation = 'relu', input_shape = [None, 1]), \n",
    "    tf.keras.layers.LSTM(32, return_sequences = True), \n",
    "    tf.keras.layers.LSTM(32, return_sequences = True), \n",
    "    tf.keras.layers.Dense(30), \n",
    "    tf.keras.layers.Dense(10), \n",
    "    tf.keras.layers.Dense(1), \n",
    "    tf.keras.layers.Lambda(lambda x: x * 400)\n",
    "])\n",
    "\n"
   ]
  }
 ],
 "metadata": {
  "language_info": {
   "name": "python"
  },
  "orig_nbformat": 4
 },
 "nbformat": 4,
 "nbformat_minor": 2
}
