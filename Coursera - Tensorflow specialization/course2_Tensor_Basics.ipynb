{
 "cells": [
  {
   "cell_type": "code",
   "execution_count": null,
   "metadata": {},
   "outputs": [],
   "source": [
    "### tensor is a flexible data structure that hold data in a variety of different ways.\n",
    "#### dimensionality of tensor, scalar: no dimension, vector: single dimension, \n",
    "#### types of tensor. Variables: tf.Variable(\"Hello\", tf.string), Constants: tf.constant([1,2,3])\n",
    "#### tensor charactoristic. Shape: tf.Tensor([4 6], shape = (2,), dtype=int32)"
   ]
  },
  {
   "cell_type": "code",
   "execution_count": 1,
   "metadata": {},
   "outputs": [],
   "source": [
    "import tensorflow as tf"
   ]
  },
  {
   "cell_type": "code",
   "execution_count": 2,
   "metadata": {},
   "outputs": [
    {
     "name": "stderr",
     "output_type": "stream",
     "text": [
      "2022-01-06 08:47:59.328893: I tensorflow/compiler/jit/xla_cpu_device.cc:41] Not creating XLA devices, tf_xla_enable_xla_devices not set\n",
      "2022-01-06 08:47:59.329457: I tensorflow/core/platform/cpu_feature_guard.cc:142] This TensorFlow binary is optimized with oneAPI Deep Neural Network Library (oneDNN) to use the following CPU instructions in performance-critical operations:  SSE4.1 SSE4.2 AVX AVX2 FMA\n",
      "To enable them in other operations, rebuild TensorFlow with the appropriate compiler flags.\n",
      "2022-01-06 08:47:59.330869: I tensorflow/core/common_runtime/process_util.cc:146] Creating new thread pool with default inter op setting: 2. Tune using inter_op_parallelism_threads for best performance.\n"
     ]
    }
   ],
   "source": [
    "\n",
    "model = tf.keras.Sequential([tf.keras.layers.Dense(1, input_shape = (1, ))])\n"
   ]
  },
  {
   "cell_type": "code",
   "execution_count": 3,
   "metadata": {},
   "outputs": [
    {
     "data": {
      "text/plain": [
       "[<tf.Variable 'dense/kernel:0' shape=(1, 1) dtype=float32, numpy=array([[0.31948078]], dtype=float32)>,\n",
       " <tf.Variable 'dense/bias:0' shape=(1,) dtype=float32, numpy=array([0.], dtype=float32)>]"
      ]
     },
     "execution_count": 3,
     "metadata": {},
     "output_type": "execute_result"
    }
   ],
   "source": [
    "model.variables # kernel = weight in NN\n",
    "# shape = (1, 1) -> 2 dimensions\n",
    "# numpy -> randomly initialized value\n"
   ]
  },
  {
   "cell_type": "code",
   "execution_count": 9,
   "metadata": {},
   "outputs": [
    {
     "name": "stdout",
     "output_type": "stream",
     "text": [
      "<tf.Variable 'Variable:0' shape=(2,) dtype=int32, numpy=array([1, 2], dtype=int32)>\n",
      "<tf.Variable 'Variable:0' shape=(2,) dtype=float32, numpy=array([1., 2.], dtype=float32)>\n"
     ]
    }
   ],
   "source": [
    "vector = tf.Variable(initial_value = [1,2])\n",
    "print(vector)\n",
    "vector = tf.Variable([1,2], dtype=tf.float32)\n",
    "print(vector)\n"
   ]
  },
  {
   "cell_type": "code",
   "execution_count": 12,
   "metadata": {},
   "outputs": [
    {
     "name": "stdout",
     "output_type": "stream",
     "text": [
      "tf.Tensor(\n",
      "[[1 2 3]\n",
      " [4 5 6]], shape=(2, 3), dtype=int32)\n",
      "tf.Tensor(\n",
      "[[-1 -1 -1]\n",
      " [-1 -1 -1]], shape=(2, 3), dtype=int32)\n"
     ]
    }
   ],
   "source": [
    "tensor = tf.constant([1,2,3,4,5,6], shape = (2,3)) # can reshape the tensor constant\n",
    "print(tensor)\n",
    "tensor = tf.constant(-1, shape = [2,3])\n",
    "print(tensor)"
   ]
  },
  {
   "cell_type": "code",
   "execution_count": 13,
   "metadata": {},
   "outputs": [],
   "source": [
    "## tensor operations"
   ]
  },
  {
   "cell_type": "code",
   "execution_count": null,
   "metadata": {},
   "outputs": [],
   "source": [
    "tf.add([1,2], [3,4])\n",
    "tf.square(5)\n",
    "tf.reduce_sum([1,2,3])\n",
    "tf.square(2) + tf.square(3)"
   ]
  },
  {
   "cell_type": "code",
   "execution_count": 14,
   "metadata": {},
   "outputs": [],
   "source": [
    "# eager execution in tensorflow: Evaluate values immediately, Broadcasting support, Operator overloading, Numpy compatibility"
   ]
  },
  {
   "cell_type": "code",
   "execution_count": 16,
   "metadata": {},
   "outputs": [
    {
     "name": "stdout",
     "output_type": "stream",
     "text": [
      "4\n",
      "tf.Tensor(4, shape=(), dtype=int32)\n"
     ]
    }
   ],
   "source": [
    "# evaluating values\n",
    "x = 2 \n",
    "x_squared = tf.square(x)\n",
    "print(\"{}\".format(x_squared))\n",
    "print(x_squared)"
   ]
  },
  {
   "cell_type": "code",
   "execution_count": 18,
   "metadata": {},
   "outputs": [
    {
     "data": {
      "text/plain": [
       "<tf.Tensor: shape=(2, 2), dtype=int32, numpy=\n",
       "array([[ 1,  4],\n",
       "       [ 9, 16]], dtype=int32)>"
      ]
     },
     "execution_count": 18,
     "metadata": {},
     "output_type": "execute_result"
    }
   ],
   "source": [
    "a = tf.constant([[1,2], [3,4]])\n",
    "tf.add(a, 1)\n",
    "a ** 2"
   ]
  },
  {
   "cell_type": "code",
   "execution_count": 19,
   "metadata": {},
   "outputs": [
    {
     "data": {
      "text/plain": [
       "[100, 0, 1]"
      ]
     },
     "execution_count": 19,
     "metadata": {},
     "output_type": "execute_result"
    }
   ],
   "source": [
    "# Examin custom layers\n",
    "class MyLayer(tf.keras.layers.Layer):\n",
    "\n",
    "    def __init__(self):\n",
    "        super(MyLayer, self).__init__()\n",
    "        self.my_var = tf.Variable(100)\n",
    "        self.my_other_var_list = [tf.Variable(x) for x in range(2)]\n",
    "\n",
    "m = MyLayer()\n",
    "[variable.numpy() for variable in m.variables]"
   ]
  },
  {
   "cell_type": "code",
   "execution_count": null,
   "metadata": {},
   "outputs": [],
   "source": []
  }
 ],
 "metadata": {
  "interpreter": {
   "hash": "366f001366255956e9ab068c1919ba0fdaf430e3ffbc7099a0724add2b197f30"
  },
  "kernelspec": {
   "display_name": "Python 3.8.12 64-bit ('implementations': conda)",
   "language": "python",
   "name": "python3"
  },
  "language_info": {
   "codemirror_mode": {
    "name": "ipython",
    "version": 3
   },
   "file_extension": ".py",
   "mimetype": "text/x-python",
   "name": "python",
   "nbconvert_exporter": "python",
   "pygments_lexer": "ipython3",
   "version": "3.8.12"
  },
  "orig_nbformat": 4
 },
 "nbformat": 4,
 "nbformat_minor": 2
}
