{
 "cells": [
  {
   "cell_type": "code",
   "execution_count": 1,
   "metadata": {},
   "outputs": [],
   "source": [
    "import numpy as np\n",
    "import tensorflow as tf"
   ]
  },
  {
   "cell_type": "code",
   "execution_count": 11,
   "metadata": {},
   "outputs": [],
   "source": [
    "input = np.random.randn(10,10,3)"
   ]
  },
  {
   "cell_type": "code",
   "execution_count": 12,
   "metadata": {},
   "outputs": [],
   "source": [
    "def padding(input, padding):\n",
    "    h = input.shape[0]\n",
    "    w = input.shape[1]\n",
    "    c = input.shape[2]\n",
    "\n",
    "    h_out = h + 2 * padding\n",
    "    w_out = w + 2 * padding\n",
    "\n",
    "    out = np.zeros((h_out, w_out, c))\n",
    "    out[padding:-padding, padding:-padding, :] = input\n",
    "    \n",
    "    return out"
   ]
  },
  {
   "cell_type": "code",
   "execution_count": 13,
   "metadata": {},
   "outputs": [
    {
     "name": "stdout",
     "output_type": "stream",
     "text": [
      "(12, 12, 3)\n"
     ]
    }
   ],
   "source": [
    "out = padding(input, 1)\n",
    "print(out.shape)"
   ]
  },
  {
   "cell_type": "code",
   "execution_count": 15,
   "metadata": {},
   "outputs": [
    {
     "name": "stdout",
     "output_type": "stream",
     "text": [
      "(5, 5, 16)\n"
     ]
    }
   ],
   "source": [
    "def conv2D_op(input, filter_num, f, p, s):\n",
    "    n_h, n_w, n_c = input.shape[0], input.shape[1], input.shape[2]\n",
    "\n",
    "    kernel = np.random.rand(f,f, n_c)\n",
    "\n",
    "    padded = padding(input, p)\n",
    "\n",
    "    n_out_h = int((n_h + 2 * p - f) / s) + 1\n",
    "    n_out_w = int((n_w + 2 * p - f) / s) + 1\n",
    "\n",
    "    conv_op_out = np.zeros((n_out_h, n_out_w, filter_num))\n",
    "\n",
    "    for i in range(n_out_h):\n",
    "        h_start = s * i\n",
    "        h_end = s * i + f\n",
    "\n",
    "        for j in range(n_out_w):\n",
    "            w_start = s * j\n",
    "            w_end = s * j + f\n",
    "\n",
    "            for k in range(filter_num):\n",
    "                conv_op_out[i, j, k] = np.sum(padded[h_start:h_end, w_start:w_end, :] * kernel)\n",
    "    \n",
    "    return conv_op_out\n",
    "\n",
    "out = conv2D_op(input, filter_num = 16, f=3, p=1, s=2)\n",
    "print(out.shape)\n",
    "\n"
   ]
  },
  {
   "cell_type": "code",
   "execution_count": null,
   "metadata": {},
   "outputs": [],
   "source": []
  },
  {
   "cell_type": "code",
   "execution_count": null,
   "metadata": {},
   "outputs": [],
   "source": []
  }
 ],
 "metadata": {
  "interpreter": {
   "hash": "366f001366255956e9ab068c1919ba0fdaf430e3ffbc7099a0724add2b197f30"
  },
  "kernelspec": {
   "display_name": "Python 3.8.12 64-bit ('implementations': conda)",
   "language": "python",
   "name": "python3"
  },
  "language_info": {
   "codemirror_mode": {
    "name": "ipython",
    "version": 3
   },
   "file_extension": ".py",
   "mimetype": "text/x-python",
   "name": "python",
   "nbconvert_exporter": "python",
   "pygments_lexer": "ipython3",
   "version": "3.8.12"
  },
  "orig_nbformat": 4
 },
 "nbformat": 4,
 "nbformat_minor": 2
}
